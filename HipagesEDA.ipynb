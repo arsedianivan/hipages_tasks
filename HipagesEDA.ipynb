{
 "cells": [
  {
   "cell_type": "markdown",
   "id": "0819e46f",
   "metadata": {},
   "source": [
    "# INFO\n",
    "- **● time_of_posts** = The time the job was posted on Hipages.\n",
    "- **● latitudes** = The latitude of the job location,\n",
    "- **● longitudes** = The longitude of the job location\n",
    "- **● categorys** = An integer which represents the category for which the job is assigned. A\n",
    "- **● categorys** (for example, painting, plumbing or air conditioning) allows us to assign the job to tradies who will be interested in the job.\n",
    "- **● number_of_tradies** = The number of tradies who we can send this job out to.\n",
    "- **● estimated_size** = The estimated size of the job, this is proportional to the amount\n",
    "of revenue the tradie might get from the job.\n",
    "- **● number_of_impressions** = The number of impressions the job gets from the trades.\n",
    "- **● accepted** = A Boolean which represents if a tradie accepts a job invitation\n",
    "(meaning that they have indicated to Hipages that they would like us to provide\n",
    "them with the contact details of the consumer). 1 means at least one tradie was\n",
    "interested while 0 means no tradie was interested. This is the target variable you\n",
    "should focus to uncover its causal relationships with the other data."
   ]
  },
  {
   "cell_type": "markdown",
   "id": "c2d2988b",
   "metadata": {},
   "source": [
    "# Questions\n",
    "\n",
    "- Does the time-of-day influence if a job would be accepted?\n",
    "- Can we predict using the data we have if a job would be accepted?\n",
    "- How effective is estimated size to uncover differences in jobs, tradies, or behaviours?"
   ]
  },
  {
   "cell_type": "code",
   "execution_count": 1,
   "id": "cb42c09e",
   "metadata": {},
   "outputs": [
    {
     "data": {
      "text/html": [
       "<div>\n",
       "<style scoped>\n",
       "    .dataframe tbody tr th:only-of-type {\n",
       "        vertical-align: middle;\n",
       "    }\n",
       "\n",
       "    .dataframe tbody tr th {\n",
       "        vertical-align: top;\n",
       "    }\n",
       "\n",
       "    .dataframe thead th {\n",
       "        text-align: right;\n",
       "    }\n",
       "</style>\n",
       "<table border=\"1\" class=\"dataframe\">\n",
       "  <thead>\n",
       "    <tr style=\"text-align: right;\">\n",
       "      <th></th>\n",
       "      <th>time_of_post</th>\n",
       "      <th>latitude</th>\n",
       "      <th>longitude</th>\n",
       "      <th>category</th>\n",
       "      <th>number_of_tradies</th>\n",
       "      <th>estimated_size</th>\n",
       "      <th>number_of_impressions</th>\n",
       "      <th>accepted</th>\n",
       "    </tr>\n",
       "  </thead>\n",
       "  <tbody>\n",
       "    <tr>\n",
       "      <th>0</th>\n",
       "      <td>2019-09-15 11:40:06</td>\n",
       "      <td>-37.8994</td>\n",
       "      <td>144.9799</td>\n",
       "      <td>8</td>\n",
       "      <td>8376</td>\n",
       "      <td>medium</td>\n",
       "      <td>1004.0</td>\n",
       "      <td>0</td>\n",
       "    </tr>\n",
       "    <tr>\n",
       "      <th>1</th>\n",
       "      <td>2019-09-11 15:12:06</td>\n",
       "      <td>-37.8063</td>\n",
       "      <td>144.9964</td>\n",
       "      <td>3</td>\n",
       "      <td>5089</td>\n",
       "      <td>medium</td>\n",
       "      <td>772.0</td>\n",
       "      <td>0</td>\n",
       "    </tr>\n",
       "    <tr>\n",
       "      <th>2</th>\n",
       "      <td>2019-09-10 15:53:06</td>\n",
       "      <td>-37.8901</td>\n",
       "      <td>144.8885</td>\n",
       "      <td>7</td>\n",
       "      <td>3677</td>\n",
       "      <td>small</td>\n",
       "      <td>1103.0</td>\n",
       "      <td>0</td>\n",
       "    </tr>\n",
       "    <tr>\n",
       "      <th>3</th>\n",
       "      <td>2019-09-10 11:38:06</td>\n",
       "      <td>-33.7674</td>\n",
       "      <td>151.1690</td>\n",
       "      <td>3</td>\n",
       "      <td>9732</td>\n",
       "      <td>medium</td>\n",
       "      <td>1111.0</td>\n",
       "      <td>1</td>\n",
       "    </tr>\n",
       "    <tr>\n",
       "      <th>4</th>\n",
       "      <td>2019-09-10 17:38:06</td>\n",
       "      <td>-33.9091</td>\n",
       "      <td>151.2039</td>\n",
       "      <td>6</td>\n",
       "      <td>2476</td>\n",
       "      <td>small</td>\n",
       "      <td>360.0</td>\n",
       "      <td>0</td>\n",
       "    </tr>\n",
       "  </tbody>\n",
       "</table>\n",
       "</div>"
      ],
      "text/plain": [
       "          time_of_post  latitude   longitude  category  number_of_tradies  \\\n",
       "0  2019-09-15 11:40:06  -37.8994    144.9799         8               8376   \n",
       "1  2019-09-11 15:12:06  -37.8063    144.9964         3               5089   \n",
       "2  2019-09-10 15:53:06  -37.8901    144.8885         7               3677   \n",
       "3  2019-09-10 11:38:06  -33.7674    151.1690         3               9732   \n",
       "4  2019-09-10 17:38:06  -33.9091    151.2039         6               2476   \n",
       "\n",
       "  estimated_size  number_of_impressions  accepted  \n",
       "0         medium                 1004.0         0  \n",
       "1         medium                  772.0         0  \n",
       "2          small                 1103.0         0  \n",
       "3         medium                 1111.0         1  \n",
       "4          small                  360.0         0  "
      ]
     },
     "execution_count": 1,
     "metadata": {},
     "output_type": "execute_result"
    }
   ],
   "source": [
    "import pandas as pd\n",
    "import seaborn as sns\n",
    "import matplotlib.pyplot as plt\n",
    "\n",
    "\n",
    "jobs = pd.read_csv('Data Analytics Case Study - jobs.csv')\n",
    "\n",
    "jobs.head(5)"
   ]
  },
  {
   "cell_type": "code",
   "execution_count": 2,
   "id": "a86de858",
   "metadata": {},
   "outputs": [
    {
     "name": "stdout",
     "output_type": "stream",
     "text": [
      "<class 'pandas.core.frame.DataFrame'>\n",
      "RangeIndex: 9999 entries, 0 to 9998\n",
      "Data columns (total 8 columns):\n",
      " #   Column                 Non-Null Count  Dtype  \n",
      "---  ------                 --------------  -----  \n",
      " 0   time_of_post           9999 non-null   object \n",
      " 1   latitude               9999 non-null   float64\n",
      " 2    longitude             9999 non-null   float64\n",
      " 3   category               9999 non-null   int64  \n",
      " 4   number_of_tradies      9999 non-null   int64  \n",
      " 5   estimated_size         9999 non-null   object \n",
      " 6   number_of_impressions  9889 non-null   float64\n",
      " 7   accepted               9999 non-null   int64  \n",
      "dtypes: float64(3), int64(3), object(2)\n",
      "memory usage: 625.1+ KB\n"
     ]
    }
   ],
   "source": [
    "jobs.info()"
   ]
  },
  {
   "cell_type": "code",
   "execution_count": 3,
   "id": "46c3dba9",
   "metadata": {},
   "outputs": [
    {
     "data": {
      "text/html": [
       "<div>\n",
       "<style scoped>\n",
       "    .dataframe tbody tr th:only-of-type {\n",
       "        vertical-align: middle;\n",
       "    }\n",
       "\n",
       "    .dataframe tbody tr th {\n",
       "        vertical-align: top;\n",
       "    }\n",
       "\n",
       "    .dataframe thead th {\n",
       "        text-align: right;\n",
       "    }\n",
       "</style>\n",
       "<table border=\"1\" class=\"dataframe\">\n",
       "  <thead>\n",
       "    <tr style=\"text-align: right;\">\n",
       "      <th></th>\n",
       "      <th>latitude</th>\n",
       "      <th>longitude</th>\n",
       "      <th>category</th>\n",
       "      <th>number_of_tradies</th>\n",
       "      <th>number_of_impressions</th>\n",
       "      <th>accepted</th>\n",
       "    </tr>\n",
       "  </thead>\n",
       "  <tbody>\n",
       "    <tr>\n",
       "      <th>count</th>\n",
       "      <td>9999.000000</td>\n",
       "      <td>9999.000000</td>\n",
       "      <td>9999.000000</td>\n",
       "      <td>9999.000000</td>\n",
       "      <td>9889.000000</td>\n",
       "      <td>9999.000000</td>\n",
       "    </tr>\n",
       "    <tr>\n",
       "      <th>mean</th>\n",
       "      <td>-34.613654</td>\n",
       "      <td>146.508822</td>\n",
       "      <td>4.819982</td>\n",
       "      <td>4225.784678</td>\n",
       "      <td>1015.828901</td>\n",
       "      <td>0.263626</td>\n",
       "    </tr>\n",
       "    <tr>\n",
       "      <th>std</th>\n",
       "      <td>4.786739</td>\n",
       "      <td>7.078573</td>\n",
       "      <td>1.857602</td>\n",
       "      <td>3020.932017</td>\n",
       "      <td>481.730727</td>\n",
       "      <td>0.440621</td>\n",
       "    </tr>\n",
       "    <tr>\n",
       "      <th>min</th>\n",
       "      <td>-38.221600</td>\n",
       "      <td>121.939400</td>\n",
       "      <td>1.000000</td>\n",
       "      <td>355.000000</td>\n",
       "      <td>-745.000000</td>\n",
       "      <td>0.000000</td>\n",
       "    </tr>\n",
       "    <tr>\n",
       "      <th>25%</th>\n",
       "      <td>-37.799350</td>\n",
       "      <td>144.937650</td>\n",
       "      <td>3.000000</td>\n",
       "      <td>1627.000000</td>\n",
       "      <td>689.000000</td>\n",
       "      <td>0.000000</td>\n",
       "    </tr>\n",
       "    <tr>\n",
       "      <th>50%</th>\n",
       "      <td>-34.000800</td>\n",
       "      <td>145.138800</td>\n",
       "      <td>5.000000</td>\n",
       "      <td>3677.000000</td>\n",
       "      <td>1007.000000</td>\n",
       "      <td>0.000000</td>\n",
       "    </tr>\n",
       "    <tr>\n",
       "      <th>75%</th>\n",
       "      <td>-33.841800</td>\n",
       "      <td>151.206350</td>\n",
       "      <td>6.000000</td>\n",
       "      <td>7267.000000</td>\n",
       "      <td>1339.000000</td>\n",
       "      <td>1.000000</td>\n",
       "    </tr>\n",
       "    <tr>\n",
       "      <th>max</th>\n",
       "      <td>-17.548400</td>\n",
       "      <td>151.542900</td>\n",
       "      <td>9.000000</td>\n",
       "      <td>10000.000000</td>\n",
       "      <td>3245.000000</td>\n",
       "      <td>1.000000</td>\n",
       "    </tr>\n",
       "  </tbody>\n",
       "</table>\n",
       "</div>"
      ],
      "text/plain": [
       "          latitude    longitude     category  number_of_tradies  \\\n",
       "count  9999.000000  9999.000000  9999.000000        9999.000000   \n",
       "mean    -34.613654   146.508822     4.819982        4225.784678   \n",
       "std       4.786739     7.078573     1.857602        3020.932017   \n",
       "min     -38.221600   121.939400     1.000000         355.000000   \n",
       "25%     -37.799350   144.937650     3.000000        1627.000000   \n",
       "50%     -34.000800   145.138800     5.000000        3677.000000   \n",
       "75%     -33.841800   151.206350     6.000000        7267.000000   \n",
       "max     -17.548400   151.542900     9.000000       10000.000000   \n",
       "\n",
       "       number_of_impressions     accepted  \n",
       "count            9889.000000  9999.000000  \n",
       "mean             1015.828901     0.263626  \n",
       "std               481.730727     0.440621  \n",
       "min              -745.000000     0.000000  \n",
       "25%               689.000000     0.000000  \n",
       "50%              1007.000000     0.000000  \n",
       "75%              1339.000000     1.000000  \n",
       "max              3245.000000     1.000000  "
      ]
     },
     "execution_count": 3,
     "metadata": {},
     "output_type": "execute_result"
    }
   ],
   "source": [
    "jobs.describe()"
   ]
  },
  {
   "cell_type": "code",
   "execution_count": 4,
   "id": "34db4efd",
   "metadata": {},
   "outputs": [
    {
     "data": {
      "text/plain": [
       "5    1966\n",
       "4    1952\n",
       "6    1602\n",
       "3    1378\n",
       "7    1133\n",
       "2     845\n",
       "8     621\n",
       "1     287\n",
       "9     215\n",
       "Name: category, dtype: int64"
      ]
     },
     "execution_count": 4,
     "metadata": {},
     "output_type": "execute_result"
    }
   ],
   "source": [
    "jobs['category'].value_counts()"
   ]
  },
  {
   "cell_type": "code",
   "execution_count": 5,
   "id": "e41ba388",
   "metadata": {},
   "outputs": [
    {
     "data": {
      "text/plain": [
       "0    7363\n",
       "1    2636\n",
       "Name: accepted, dtype: int64"
      ]
     },
     "execution_count": 5,
     "metadata": {},
     "output_type": "execute_result"
    }
   ],
   "source": [
    "jobs['accepted'].value_counts()"
   ]
  },
  {
   "cell_type": "code",
   "execution_count": 6,
   "id": "09756081",
   "metadata": {},
   "outputs": [
    {
     "data": {
      "text/plain": [
       "category  accepted\n",
       "1         0            210\n",
       "          1             77\n",
       "2         0            646\n",
       "          1            199\n",
       "3         0            834\n",
       "          1            544\n",
       "4         0           1441\n",
       "          1            511\n",
       "5         0           1657\n",
       "          1            309\n",
       "6         0           1122\n",
       "          1            480\n",
       "7         0            837\n",
       "          1            296\n",
       "8         0            464\n",
       "          1            157\n",
       "9         0            152\n",
       "          1             63\n",
       "Name: accepted, dtype: int64"
      ]
     },
     "execution_count": 6,
     "metadata": {},
     "output_type": "execute_result"
    }
   ],
   "source": [
    "jobs['accepted'].groupby(jobs['category']).value_counts()"
   ]
  },
  {
   "cell_type": "code",
   "execution_count": 7,
   "id": "27581619",
   "metadata": {},
   "outputs": [],
   "source": [
    "jobs['time_of_post'] = pd.to_datetime(jobs['time_of_post'])"
   ]
  },
  {
   "cell_type": "code",
   "execution_count": 8,
   "id": "b2db9cd8",
   "metadata": {},
   "outputs": [],
   "source": [
    "jobs['date'] = jobs['time_of_post'].dt.date\n",
    "jobs['time'] = jobs['time_of_post'].dt.time"
   ]
  },
  {
   "cell_type": "code",
   "execution_count": 9,
   "id": "13e04283",
   "metadata": {},
   "outputs": [
    {
     "data": {
      "text/plain": [
       "12:25:06    22\n",
       "10:03:06    19\n",
       "12:01:06    19\n",
       "13:43:06    18\n",
       "11:32:06    18\n",
       "            ..\n",
       "01:42:07     1\n",
       "22:57:06     1\n",
       "07:31:07     1\n",
       "06:47:07     1\n",
       "05:42:07     1\n",
       "Name: time, Length: 1969, dtype: int64"
      ]
     },
     "execution_count": 9,
     "metadata": {},
     "output_type": "execute_result"
    }
   ],
   "source": [
    "jobs['time'].value_counts()"
   ]
  },
  {
   "cell_type": "code",
   "execution_count": 10,
   "id": "a11a5819",
   "metadata": {},
   "outputs": [
    {
     "name": "stdout",
     "output_type": "stream",
     "text": [
      "<class 'pandas.core.frame.DataFrame'>\n",
      "RangeIndex: 9999 entries, 0 to 9998\n",
      "Data columns (total 10 columns):\n",
      " #   Column                 Non-Null Count  Dtype         \n",
      "---  ------                 --------------  -----         \n",
      " 0   time_of_post           9999 non-null   datetime64[ns]\n",
      " 1   latitude               9999 non-null   float64       \n",
      " 2    longitude             9999 non-null   float64       \n",
      " 3   category               9999 non-null   int64         \n",
      " 4   number_of_tradies      9999 non-null   int64         \n",
      " 5   estimated_size         9999 non-null   object        \n",
      " 6   number_of_impressions  9889 non-null   float64       \n",
      " 7   accepted               9999 non-null   int64         \n",
      " 8   date                   9999 non-null   object        \n",
      " 9   time                   9999 non-null   object        \n",
      "dtypes: datetime64[ns](1), float64(3), int64(3), object(3)\n",
      "memory usage: 781.3+ KB\n"
     ]
    }
   ],
   "source": [
    "jobs.info()"
   ]
  },
  {
   "cell_type": "code",
   "execution_count": 11,
   "id": "20fea2d6",
   "metadata": {},
   "outputs": [
    {
     "data": {
      "text/html": [
       "<div>\n",
       "<style scoped>\n",
       "    .dataframe tbody tr th:only-of-type {\n",
       "        vertical-align: middle;\n",
       "    }\n",
       "\n",
       "    .dataframe tbody tr th {\n",
       "        vertical-align: top;\n",
       "    }\n",
       "\n",
       "    .dataframe thead th {\n",
       "        text-align: right;\n",
       "    }\n",
       "</style>\n",
       "<table border=\"1\" class=\"dataframe\">\n",
       "  <thead>\n",
       "    <tr style=\"text-align: right;\">\n",
       "      <th></th>\n",
       "      <th>latitude</th>\n",
       "      <th>longitude</th>\n",
       "      <th>category</th>\n",
       "      <th>number_of_tradies</th>\n",
       "      <th>number_of_impressions</th>\n",
       "      <th>accepted</th>\n",
       "    </tr>\n",
       "  </thead>\n",
       "  <tbody>\n",
       "    <tr>\n",
       "      <th>count</th>\n",
       "      <td>9999.000000</td>\n",
       "      <td>9999.000000</td>\n",
       "      <td>9999.000000</td>\n",
       "      <td>9999.000000</td>\n",
       "      <td>9889.000000</td>\n",
       "      <td>9999.000000</td>\n",
       "    </tr>\n",
       "    <tr>\n",
       "      <th>mean</th>\n",
       "      <td>-34.613654</td>\n",
       "      <td>146.508822</td>\n",
       "      <td>4.819982</td>\n",
       "      <td>4225.784678</td>\n",
       "      <td>1015.828901</td>\n",
       "      <td>0.263626</td>\n",
       "    </tr>\n",
       "    <tr>\n",
       "      <th>std</th>\n",
       "      <td>4.786739</td>\n",
       "      <td>7.078573</td>\n",
       "      <td>1.857602</td>\n",
       "      <td>3020.932017</td>\n",
       "      <td>481.730727</td>\n",
       "      <td>0.440621</td>\n",
       "    </tr>\n",
       "    <tr>\n",
       "      <th>min</th>\n",
       "      <td>-38.221600</td>\n",
       "      <td>121.939400</td>\n",
       "      <td>1.000000</td>\n",
       "      <td>355.000000</td>\n",
       "      <td>-745.000000</td>\n",
       "      <td>0.000000</td>\n",
       "    </tr>\n",
       "    <tr>\n",
       "      <th>25%</th>\n",
       "      <td>-37.799350</td>\n",
       "      <td>144.937650</td>\n",
       "      <td>3.000000</td>\n",
       "      <td>1627.000000</td>\n",
       "      <td>689.000000</td>\n",
       "      <td>0.000000</td>\n",
       "    </tr>\n",
       "    <tr>\n",
       "      <th>50%</th>\n",
       "      <td>-34.000800</td>\n",
       "      <td>145.138800</td>\n",
       "      <td>5.000000</td>\n",
       "      <td>3677.000000</td>\n",
       "      <td>1007.000000</td>\n",
       "      <td>0.000000</td>\n",
       "    </tr>\n",
       "    <tr>\n",
       "      <th>75%</th>\n",
       "      <td>-33.841800</td>\n",
       "      <td>151.206350</td>\n",
       "      <td>6.000000</td>\n",
       "      <td>7267.000000</td>\n",
       "      <td>1339.000000</td>\n",
       "      <td>1.000000</td>\n",
       "    </tr>\n",
       "    <tr>\n",
       "      <th>max</th>\n",
       "      <td>-17.548400</td>\n",
       "      <td>151.542900</td>\n",
       "      <td>9.000000</td>\n",
       "      <td>10000.000000</td>\n",
       "      <td>3245.000000</td>\n",
       "      <td>1.000000</td>\n",
       "    </tr>\n",
       "  </tbody>\n",
       "</table>\n",
       "</div>"
      ],
      "text/plain": [
       "          latitude    longitude     category  number_of_tradies  \\\n",
       "count  9999.000000  9999.000000  9999.000000        9999.000000   \n",
       "mean    -34.613654   146.508822     4.819982        4225.784678   \n",
       "std       4.786739     7.078573     1.857602        3020.932017   \n",
       "min     -38.221600   121.939400     1.000000         355.000000   \n",
       "25%     -37.799350   144.937650     3.000000        1627.000000   \n",
       "50%     -34.000800   145.138800     5.000000        3677.000000   \n",
       "75%     -33.841800   151.206350     6.000000        7267.000000   \n",
       "max     -17.548400   151.542900     9.000000       10000.000000   \n",
       "\n",
       "       number_of_impressions     accepted  \n",
       "count            9889.000000  9999.000000  \n",
       "mean             1015.828901     0.263626  \n",
       "std               481.730727     0.440621  \n",
       "min              -745.000000     0.000000  \n",
       "25%               689.000000     0.000000  \n",
       "50%              1007.000000     0.000000  \n",
       "75%              1339.000000     1.000000  \n",
       "max              3245.000000     1.000000  "
      ]
     },
     "execution_count": 11,
     "metadata": {},
     "output_type": "execute_result"
    }
   ],
   "source": [
    "jobs.describe()"
   ]
  },
  {
   "cell_type": "code",
   "execution_count": 12,
   "id": "28aeb0fd",
   "metadata": {},
   "outputs": [
    {
     "data": {
      "text/plain": [
       "time      accepted\n",
       "00:00:06  0           1\n",
       "00:01:06  0           2\n",
       "00:03:06  0           2\n",
       "          1           1\n",
       "00:04:06  0           3\n",
       "                     ..\n",
       "22:56:06  0           4\n",
       "          1           2\n",
       "22:57:06  0           1\n",
       "22:58:07  0           1\n",
       "22:59:06  1           1\n",
       "Name: accepted, Length: 2918, dtype: int64"
      ]
     },
     "execution_count": 12,
     "metadata": {},
     "output_type": "execute_result"
    }
   ],
   "source": [
    "jobs['accepted'].groupby(jobs['time']).value_counts()"
   ]
  },
  {
   "cell_type": "code",
   "execution_count": 13,
   "id": "8761986a",
   "metadata": {},
   "outputs": [],
   "source": [
    "# Define a function to categorize time into parts of the day\n",
    "def categorise_time(time):\n",
    "    if time.hour < 12:\n",
    "        return 'Morning'\n",
    "    elif 12 <= time.hour < 17:\n",
    "        return 'Afternoon'\n",
    "    elif 17 <= time.hour < 21:\n",
    "        return 'Evening'\n",
    "    else:\n",
    "        return 'Mid-Night'"
   ]
  },
  {
   "cell_type": "code",
   "execution_count": 34,
   "id": "5bd08d36",
   "metadata": {},
   "outputs": [],
   "source": [
    "jobs['time_category'] = jobs['time_of_post'].dt.time.apply(categorise_time)"
   ]
  },
  {
   "cell_type": "code",
   "execution_count": 35,
   "id": "42856c2d",
   "metadata": {},
   "outputs": [
    {
     "data": {
      "text/plain": [
       "time_category  accepted\n",
       "Morning        0           4489\n",
       "Afternoon      0           1828\n",
       "               1           1360\n",
       "Evening        0            824\n",
       "               1            589\n",
       "Morning        1            528\n",
       "Mid-Night      0            222\n",
       "               1            159\n",
       "Name: accepted, dtype: int64"
      ]
     },
     "execution_count": 35,
     "metadata": {},
     "output_type": "execute_result"
    }
   ],
   "source": [
    "jobs['accepted'].groupby(jobs['time_category']).value_counts().sort_values(ascending=False)"
   ]
  },
  {
   "cell_type": "code",
   "execution_count": 16,
   "id": "df8d04e2",
   "metadata": {},
   "outputs": [],
   "source": [
    "acceptedjobs = jobs['accepted'].isin([True])"
   ]
  },
  {
   "cell_type": "code",
   "execution_count": 17,
   "id": "2136eaf1",
   "metadata": {},
   "outputs": [
    {
     "data": {
      "text/html": [
       "<div>\n",
       "<style scoped>\n",
       "    .dataframe tbody tr th:only-of-type {\n",
       "        vertical-align: middle;\n",
       "    }\n",
       "\n",
       "    .dataframe tbody tr th {\n",
       "        vertical-align: top;\n",
       "    }\n",
       "\n",
       "    .dataframe thead th {\n",
       "        text-align: right;\n",
       "    }\n",
       "</style>\n",
       "<table border=\"1\" class=\"dataframe\">\n",
       "  <thead>\n",
       "    <tr style=\"text-align: right;\">\n",
       "      <th></th>\n",
       "      <th>time_of_post</th>\n",
       "      <th>latitude</th>\n",
       "      <th>longitude</th>\n",
       "      <th>category</th>\n",
       "      <th>number_of_tradies</th>\n",
       "      <th>estimated_size</th>\n",
       "      <th>number_of_impressions</th>\n",
       "      <th>accepted</th>\n",
       "      <th>date</th>\n",
       "      <th>time</th>\n",
       "      <th>time_category</th>\n",
       "    </tr>\n",
       "  </thead>\n",
       "  <tbody>\n",
       "    <tr>\n",
       "      <th>3</th>\n",
       "      <td>2019-09-10 11:38:06</td>\n",
       "      <td>-33.7674</td>\n",
       "      <td>151.1690</td>\n",
       "      <td>3</td>\n",
       "      <td>9732</td>\n",
       "      <td>medium</td>\n",
       "      <td>1111.0</td>\n",
       "      <td>1</td>\n",
       "      <td>2019-09-10</td>\n",
       "      <td>11:38:06</td>\n",
       "      <td>Morning</td>\n",
       "    </tr>\n",
       "    <tr>\n",
       "      <th>8</th>\n",
       "      <td>2019-09-15 15:42:06</td>\n",
       "      <td>-38.0545</td>\n",
       "      <td>144.9955</td>\n",
       "      <td>7</td>\n",
       "      <td>3677</td>\n",
       "      <td>medium</td>\n",
       "      <td>1642.0</td>\n",
       "      <td>1</td>\n",
       "      <td>2019-09-15</td>\n",
       "      <td>15:42:06</td>\n",
       "      <td>Afternoon</td>\n",
       "    </tr>\n",
       "    <tr>\n",
       "      <th>21</th>\n",
       "      <td>2019-09-15 14:49:06</td>\n",
       "      <td>-37.8261</td>\n",
       "      <td>144.9803</td>\n",
       "      <td>8</td>\n",
       "      <td>8376</td>\n",
       "      <td>small</td>\n",
       "      <td>1210.0</td>\n",
       "      <td>1</td>\n",
       "      <td>2019-09-15</td>\n",
       "      <td>14:49:06</td>\n",
       "      <td>Afternoon</td>\n",
       "    </tr>\n",
       "    <tr>\n",
       "      <th>23</th>\n",
       "      <td>2019-09-13 16:09:06</td>\n",
       "      <td>-33.9457</td>\n",
       "      <td>151.1543</td>\n",
       "      <td>6</td>\n",
       "      <td>2476</td>\n",
       "      <td>medium</td>\n",
       "      <td>711.0</td>\n",
       "      <td>1</td>\n",
       "      <td>2019-09-13</td>\n",
       "      <td>16:09:06</td>\n",
       "      <td>Afternoon</td>\n",
       "    </tr>\n",
       "    <tr>\n",
       "      <th>33</th>\n",
       "      <td>2019-09-14 14:28:06</td>\n",
       "      <td>-33.7730</td>\n",
       "      <td>151.1242</td>\n",
       "      <td>7</td>\n",
       "      <td>4242</td>\n",
       "      <td>medium</td>\n",
       "      <td>1180.0</td>\n",
       "      <td>1</td>\n",
       "      <td>2019-09-14</td>\n",
       "      <td>14:28:06</td>\n",
       "      <td>Afternoon</td>\n",
       "    </tr>\n",
       "  </tbody>\n",
       "</table>\n",
       "</div>"
      ],
      "text/plain": [
       "          time_of_post  latitude   longitude  category  number_of_tradies  \\\n",
       "3  2019-09-10 11:38:06  -33.7674    151.1690         3               9732   \n",
       "8  2019-09-15 15:42:06  -38.0545    144.9955         7               3677   \n",
       "21 2019-09-15 14:49:06  -37.8261    144.9803         8               8376   \n",
       "23 2019-09-13 16:09:06  -33.9457    151.1543         6               2476   \n",
       "33 2019-09-14 14:28:06  -33.7730    151.1242         7               4242   \n",
       "\n",
       "   estimated_size  number_of_impressions  accepted        date      time  \\\n",
       "3          medium                 1111.0         1  2019-09-10  11:38:06   \n",
       "8          medium                 1642.0         1  2019-09-15  15:42:06   \n",
       "21          small                 1210.0         1  2019-09-15  14:49:06   \n",
       "23         medium                  711.0         1  2019-09-13  16:09:06   \n",
       "33         medium                 1180.0         1  2019-09-14  14:28:06   \n",
       "\n",
       "   time_category  \n",
       "3        Morning  \n",
       "8      Afternoon  \n",
       "21     Afternoon  \n",
       "23     Afternoon  \n",
       "33     Afternoon  "
      ]
     },
     "execution_count": 17,
     "metadata": {},
     "output_type": "execute_result"
    }
   ],
   "source": [
    "jobs[acceptedjobs].head()"
   ]
  },
  {
   "cell_type": "code",
   "execution_count": 18,
   "id": "624c069e",
   "metadata": {},
   "outputs": [
    {
     "data": {
      "image/png": "[encoded data removed]",
      "text/plain": [
       "<Figure size 432x288 with 1 Axes>"
      ]
     },
     "metadata": {
      "needs_background": "light"
     },
     "output_type": "display_data"
    }
   ],
   "source": [
    "sns.histplot(data=jobs[acceptedjobs], x='time_category', binwidth=1)\n",
    "plt.show()"
   ]
  },
  {
   "cell_type": "code",
   "execution_count": 19,
   "id": "5e7f5858",
   "metadata": {},
   "outputs": [
    {
     "data": {
      "image/png": "[encoded data removed]",
      "text/plain": [
       "<Figure size 432x288 with 1 Axes>"
      ]
     },
     "metadata": {
      "needs_background": "light"
     },
     "output_type": "display_data"
    }
   ],
   "source": [
    "sns.histplot(data=jobs, x='time_category', hue='accepted', binwidth=1)\n",
    "plt.show()"
   ]
  },
  {
   "cell_type": "code",
   "execution_count": 21,
   "id": "f15932ab",
   "metadata": {},
   "outputs": [
    {
     "data": {
      "text/plain": [
       "time_of_post               0\n",
       "latitude                   0\n",
       " longitude                 0\n",
       "category                   0\n",
       "number_of_tradies          0\n",
       "estimated_size             0\n",
       "number_of_impressions    110\n",
       "accepted                   0\n",
       "date                       0\n",
       "time                       0\n",
       "time_category              0\n",
       "dtype: int64"
      ]
     },
     "execution_count": 21,
     "metadata": {},
     "output_type": "execute_result"
    }
   ],
   "source": [
    "jobs.isnull().sum()"
   ]
  },
  {
   "cell_type": "code",
   "execution_count": 22,
   "id": "b1859f81",
   "metadata": {},
   "outputs": [
    {
     "data": {
      "text/plain": [
       "0    False\n",
       "1    False\n",
       "2    False\n",
       "3    False\n",
       "4    False\n",
       "Name: number_of_impressions, dtype: bool"
      ]
     },
     "execution_count": 22,
     "metadata": {},
     "output_type": "execute_result"
    }
   ],
   "source": [
    "jobs['number_of_impressions'].isnull().head()"
   ]
  },
  {
   "cell_type": "code",
   "execution_count": 23,
   "id": "fb2fdc7f",
   "metadata": {},
   "outputs": [
    {
     "data": {
      "text/plain": [
       "category\n",
       "3    544\n",
       "4    511\n",
       "6    480\n",
       "5    309\n",
       "7    296\n",
       "2    199\n",
       "8    157\n",
       "1     77\n",
       "9     63\n",
       "dtype: int64"
      ]
     },
     "execution_count": 23,
     "metadata": {},
     "output_type": "execute_result"
    }
   ],
   "source": [
    "jobs[acceptedjobs].groupby('category').size().sort_values(ascending=False)\n"
   ]
  },
  {
   "cell_type": "code",
   "execution_count": 24,
   "id": "685eb6b2",
   "metadata": {},
   "outputs": [
    {
     "data": {
      "text/plain": [
       "<AxesSubplot:>"
      ]
     },
     "execution_count": 24,
     "metadata": {},
     "output_type": "execute_result"
    },
    {
     "data": {
      "image/png": "[encoded data removed]",
      "text/plain": [
       "<Figure size 432x288 with 2 Axes>"
      ]
     },
     "metadata": {
      "needs_background": "light"
     },
     "output_type": "display_data"
    }
   ],
   "source": [
    "sns.heatmap(jobs[['time_category','number_of_tradies','estimated_size','number_of_impressions','accepted']].corr(), annot=True, cmap=\"coolwarm\")"
   ]
  },
  {
   "cell_type": "code",
   "execution_count": 38,
   "id": "51f68987",
   "metadata": {},
   "outputs": [
    {
     "data": {
      "text/plain": [
       "Index(['time_of_post', 'latitude', ' longitude', 'category',\n",
       "       'number_of_tradies', 'estimated_size', 'number_of_impressions',\n",
       "       'accepted', 'date', 'time', 'OH_Afternoon', 'OH_Evening',\n",
       "       'OH_Mid-Night', 'OH_Morning', 'time_category'],\n",
       "      dtype='object')"
      ]
     },
     "execution_count": 38,
     "metadata": {},
     "output_type": "execute_result"
    }
   ],
   "source": [
    "jobs.columns"
   ]
  },
  {
   "cell_type": "code",
   "execution_count": 26,
   "id": "5917fbe7",
   "metadata": {},
   "outputs": [
    {
     "data": {
      "text/html": [
       "<div>\n",
       "<style scoped>\n",
       "    .dataframe tbody tr th:only-of-type {\n",
       "        vertical-align: middle;\n",
       "    }\n",
       "\n",
       "    .dataframe tbody tr th {\n",
       "        vertical-align: top;\n",
       "    }\n",
       "\n",
       "    .dataframe thead th {\n",
       "        text-align: right;\n",
       "    }\n",
       "</style>\n",
       "<table border=\"1\" class=\"dataframe\">\n",
       "  <thead>\n",
       "    <tr style=\"text-align: right;\">\n",
       "      <th></th>\n",
       "      <th>time_of_post</th>\n",
       "      <th>latitude</th>\n",
       "      <th>longitude</th>\n",
       "      <th>category</th>\n",
       "      <th>number_of_tradies</th>\n",
       "      <th>estimated_size</th>\n",
       "      <th>number_of_impressions</th>\n",
       "      <th>accepted</th>\n",
       "      <th>date</th>\n",
       "      <th>time</th>\n",
       "      <th>OH_Afternoon</th>\n",
       "      <th>OH_Evening</th>\n",
       "      <th>OH_Mid-Night</th>\n",
       "      <th>OH_Morning</th>\n",
       "    </tr>\n",
       "  </thead>\n",
       "  <tbody>\n",
       "    <tr>\n",
       "      <th>0</th>\n",
       "      <td>2019-09-15 11:40:06</td>\n",
       "      <td>-37.8994</td>\n",
       "      <td>144.9799</td>\n",
       "      <td>8</td>\n",
       "      <td>8376</td>\n",
       "      <td>medium</td>\n",
       "      <td>1004.0</td>\n",
       "      <td>0</td>\n",
       "      <td>2019-09-15</td>\n",
       "      <td>11:40:06</td>\n",
       "      <td>0</td>\n",
       "      <td>0</td>\n",
       "      <td>0</td>\n",
       "      <td>1</td>\n",
       "    </tr>\n",
       "    <tr>\n",
       "      <th>1</th>\n",
       "      <td>2019-09-11 15:12:06</td>\n",
       "      <td>-37.8063</td>\n",
       "      <td>144.9964</td>\n",
       "      <td>3</td>\n",
       "      <td>5089</td>\n",
       "      <td>medium</td>\n",
       "      <td>772.0</td>\n",
       "      <td>0</td>\n",
       "      <td>2019-09-11</td>\n",
       "      <td>15:12:06</td>\n",
       "      <td>1</td>\n",
       "      <td>0</td>\n",
       "      <td>0</td>\n",
       "      <td>0</td>\n",
       "    </tr>\n",
       "    <tr>\n",
       "      <th>2</th>\n",
       "      <td>2019-09-10 15:53:06</td>\n",
       "      <td>-37.8901</td>\n",
       "      <td>144.8885</td>\n",
       "      <td>7</td>\n",
       "      <td>3677</td>\n",
       "      <td>small</td>\n",
       "      <td>1103.0</td>\n",
       "      <td>0</td>\n",
       "      <td>2019-09-10</td>\n",
       "      <td>15:53:06</td>\n",
       "      <td>1</td>\n",
       "      <td>0</td>\n",
       "      <td>0</td>\n",
       "      <td>0</td>\n",
       "    </tr>\n",
       "    <tr>\n",
       "      <th>3</th>\n",
       "      <td>2019-09-10 11:38:06</td>\n",
       "      <td>-33.7674</td>\n",
       "      <td>151.1690</td>\n",
       "      <td>3</td>\n",
       "      <td>9732</td>\n",
       "      <td>medium</td>\n",
       "      <td>1111.0</td>\n",
       "      <td>1</td>\n",
       "      <td>2019-09-10</td>\n",
       "      <td>11:38:06</td>\n",
       "      <td>0</td>\n",
       "      <td>0</td>\n",
       "      <td>0</td>\n",
       "      <td>1</td>\n",
       "    </tr>\n",
       "    <tr>\n",
       "      <th>4</th>\n",
       "      <td>2019-09-10 17:38:06</td>\n",
       "      <td>-33.9091</td>\n",
       "      <td>151.2039</td>\n",
       "      <td>6</td>\n",
       "      <td>2476</td>\n",
       "      <td>small</td>\n",
       "      <td>360.0</td>\n",
       "      <td>0</td>\n",
       "      <td>2019-09-10</td>\n",
       "      <td>17:38:06</td>\n",
       "      <td>0</td>\n",
       "      <td>1</td>\n",
       "      <td>0</td>\n",
       "      <td>0</td>\n",
       "    </tr>\n",
       "  </tbody>\n",
       "</table>\n",
       "</div>"
      ],
      "text/plain": [
       "         time_of_post  latitude   longitude  category  number_of_tradies  \\\n",
       "0 2019-09-15 11:40:06  -37.8994    144.9799         8               8376   \n",
       "1 2019-09-11 15:12:06  -37.8063    144.9964         3               5089   \n",
       "2 2019-09-10 15:53:06  -37.8901    144.8885         7               3677   \n",
       "3 2019-09-10 11:38:06  -33.7674    151.1690         3               9732   \n",
       "4 2019-09-10 17:38:06  -33.9091    151.2039         6               2476   \n",
       "\n",
       "  estimated_size  number_of_impressions  accepted        date      time  \\\n",
       "0         medium                 1004.0         0  2019-09-15  11:40:06   \n",
       "1         medium                  772.0         0  2019-09-11  15:12:06   \n",
       "2          small                 1103.0         0  2019-09-10  15:53:06   \n",
       "3         medium                 1111.0         1  2019-09-10  11:38:06   \n",
       "4          small                  360.0         0  2019-09-10  17:38:06   \n",
       "\n",
       "   OH_Afternoon  OH_Evening  OH_Mid-Night  OH_Morning  \n",
       "0             0           0             0           1  \n",
       "1             1           0             0           0  \n",
       "2             1           0             0           0  \n",
       "3             0           0             0           1  \n",
       "4             0           1             0           0  "
      ]
     },
     "execution_count": 26,
     "metadata": {},
     "output_type": "execute_result"
    }
   ],
   "source": [
    "#Encode time_category\n",
    "\n",
    "jobs = pd.get_dummies(jobs, columns=['time_category'], prefix='OH')\n",
    "\n",
    "jobs.head()"
   ]
  },
  {
   "cell_type": "code",
   "execution_count": 29,
   "id": "d50d6072",
   "metadata": {},
   "outputs": [
    {
     "data": {
      "text/plain": [
       "<AxesSubplot:>"
      ]
     },
     "execution_count": 29,
     "metadata": {},
     "output_type": "execute_result"
    },
    {
     "data": {
      "image/png": "[encoded data removed]",
      "text/plain": [
       "<Figure size 432x288 with 2 Axes>"
      ]
     },
     "metadata": {
      "needs_background": "light"
     },
     "output_type": "display_data"
    }
   ],
   "source": [
    "sns.heatmap(data=jobs[['accepted', 'OH_Afternoon', 'OH_Evening', 'OH_Morning', 'OH_Mid-Night','number_of_impressions','number_of_tradies']].corr(), annot=True)"
   ]
  },
  {
   "cell_type": "code",
   "execution_count": 37,
   "id": "1e983e80",
   "metadata": {},
   "outputs": [
    {
     "data": {
      "text/html": [
       "<div>\n",
       "<style scoped>\n",
       "    .dataframe tbody tr th:only-of-type {\n",
       "        vertical-align: middle;\n",
       "    }\n",
       "\n",
       "    .dataframe tbody tr th {\n",
       "        vertical-align: top;\n",
       "    }\n",
       "\n",
       "    .dataframe thead th {\n",
       "        text-align: right;\n",
       "    }\n",
       "</style>\n",
       "<table border=\"1\" class=\"dataframe\">\n",
       "  <thead>\n",
       "    <tr style=\"text-align: right;\">\n",
       "      <th>time_category</th>\n",
       "      <th>Afternoon</th>\n",
       "      <th>Evening</th>\n",
       "      <th>Mid-Night</th>\n",
       "      <th>Morning</th>\n",
       "    </tr>\n",
       "    <tr>\n",
       "      <th>accepted</th>\n",
       "      <th></th>\n",
       "      <th></th>\n",
       "      <th></th>\n",
       "      <th></th>\n",
       "    </tr>\n",
       "  </thead>\n",
       "  <tbody>\n",
       "    <tr>\n",
       "      <th>0</th>\n",
       "      <td>1828</td>\n",
       "      <td>824</td>\n",
       "      <td>222</td>\n",
       "      <td>4489</td>\n",
       "    </tr>\n",
       "    <tr>\n",
       "      <th>1</th>\n",
       "      <td>1360</td>\n",
       "      <td>589</td>\n",
       "      <td>159</td>\n",
       "      <td>528</td>\n",
       "    </tr>\n",
       "  </tbody>\n",
       "</table>\n",
       "</div>"
      ],
      "text/plain": [
       "time_category  Afternoon  Evening  Mid-Night  Morning\n",
       "accepted                                             \n",
       "0                   1828      824        222     4489\n",
       "1                   1360      589        159      528"
      ]
     },
     "execution_count": 37,
     "metadata": {},
     "output_type": "execute_result"
    }
   ],
   "source": [
    "pd.crosstab(jobs['accepted'], jobs['time_category'])"
   ]
  },
  {
   "cell_type": "code",
   "execution_count": 39,
   "id": "2ed92357",
   "metadata": {},
   "outputs": [
    {
     "data": {
      "text/plain": [
       "Index(['time_of_post', 'latitude', ' longitude', 'category',\n",
       "       'number_of_tradies', 'estimated_size', 'number_of_impressions',\n",
       "       'accepted', 'date', 'time', 'OH_Afternoon', 'OH_Evening',\n",
       "       'OH_Mid-Night', 'OH_Morning', 'time_category'],\n",
       "      dtype='object')"
      ]
     },
     "execution_count": 39,
     "metadata": {},
     "output_type": "execute_result"
    }
   ],
   "source": [
    "jobs.columns"
   ]
  },
  {
   "cell_type": "code",
   "execution_count": 43,
   "id": "0d728e7f",
   "metadata": {},
   "outputs": [],
   "source": [
    "jobs['hour']= jobs['time_of_post'].dt.hour"
   ]
  },
  {
   "cell_type": "code",
   "execution_count": 48,
   "id": "17e8b7ec",
   "metadata": {},
   "outputs": [
    {
     "data": {
      "text/html": [
       "<div>\n",
       "<style scoped>\n",
       "    .dataframe tbody tr th:only-of-type {\n",
       "        vertical-align: middle;\n",
       "    }\n",
       "\n",
       "    .dataframe tbody tr th {\n",
       "        vertical-align: top;\n",
       "    }\n",
       "\n",
       "    .dataframe thead th {\n",
       "        text-align: right;\n",
       "    }\n",
       "</style>\n",
       "<table border=\"1\" class=\"dataframe\">\n",
       "  <thead>\n",
       "    <tr style=\"text-align: right;\">\n",
       "      <th></th>\n",
       "      <th>hour</th>\n",
       "      <th>accepted</th>\n",
       "    </tr>\n",
       "  </thead>\n",
       "  <tbody>\n",
       "    <tr>\n",
       "      <th>0</th>\n",
       "      <td>0</td>\n",
       "      <td>0.079365</td>\n",
       "    </tr>\n",
       "    <tr>\n",
       "      <th>1</th>\n",
       "      <td>1</td>\n",
       "      <td>0.138728</td>\n",
       "    </tr>\n",
       "    <tr>\n",
       "      <th>2</th>\n",
       "      <td>2</td>\n",
       "      <td>0.090909</td>\n",
       "    </tr>\n",
       "    <tr>\n",
       "      <th>3</th>\n",
       "      <td>3</td>\n",
       "      <td>0.130252</td>\n",
       "    </tr>\n",
       "    <tr>\n",
       "      <th>4</th>\n",
       "      <td>4</td>\n",
       "      <td>0.086957</td>\n",
       "    </tr>\n",
       "    <tr>\n",
       "      <th>5</th>\n",
       "      <td>5</td>\n",
       "      <td>0.109661</td>\n",
       "    </tr>\n",
       "    <tr>\n",
       "      <th>6</th>\n",
       "      <td>6</td>\n",
       "      <td>0.115468</td>\n",
       "    </tr>\n",
       "    <tr>\n",
       "      <th>7</th>\n",
       "      <td>7</td>\n",
       "      <td>0.083333</td>\n",
       "    </tr>\n",
       "    <tr>\n",
       "      <th>8</th>\n",
       "      <td>8</td>\n",
       "      <td>0.107926</td>\n",
       "    </tr>\n",
       "    <tr>\n",
       "      <th>9</th>\n",
       "      <td>9</td>\n",
       "      <td>0.114074</td>\n",
       "    </tr>\n",
       "    <tr>\n",
       "      <th>10</th>\n",
       "      <td>10</td>\n",
       "      <td>0.111276</td>\n",
       "    </tr>\n",
       "    <tr>\n",
       "      <th>11</th>\n",
       "      <td>11</td>\n",
       "      <td>0.094708</td>\n",
       "    </tr>\n",
       "    <tr>\n",
       "      <th>12</th>\n",
       "      <td>12</td>\n",
       "      <td>0.410405</td>\n",
       "    </tr>\n",
       "    <tr>\n",
       "      <th>13</th>\n",
       "      <td>13</td>\n",
       "      <td>0.459581</td>\n",
       "    </tr>\n",
       "    <tr>\n",
       "      <th>14</th>\n",
       "      <td>14</td>\n",
       "      <td>0.408346</td>\n",
       "    </tr>\n",
       "    <tr>\n",
       "      <th>15</th>\n",
       "      <td>15</td>\n",
       "      <td>0.475610</td>\n",
       "    </tr>\n",
       "    <tr>\n",
       "      <th>16</th>\n",
       "      <td>16</td>\n",
       "      <td>0.380789</td>\n",
       "    </tr>\n",
       "    <tr>\n",
       "      <th>17</th>\n",
       "      <td>17</td>\n",
       "      <td>0.406926</td>\n",
       "    </tr>\n",
       "    <tr>\n",
       "      <th>18</th>\n",
       "      <td>18</td>\n",
       "      <td>0.401985</td>\n",
       "    </tr>\n",
       "    <tr>\n",
       "      <th>19</th>\n",
       "      <td>19</td>\n",
       "      <td>0.424837</td>\n",
       "    </tr>\n",
       "    <tr>\n",
       "      <th>20</th>\n",
       "      <td>20</td>\n",
       "      <td>0.450413</td>\n",
       "    </tr>\n",
       "    <tr>\n",
       "      <th>21</th>\n",
       "      <td>21</td>\n",
       "      <td>0.384956</td>\n",
       "    </tr>\n",
       "    <tr>\n",
       "      <th>22</th>\n",
       "      <td>22</td>\n",
       "      <td>0.464516</td>\n",
       "    </tr>\n",
       "  </tbody>\n",
       "</table>\n",
       "</div>"
      ],
      "text/plain": [
       "    hour  accepted\n",
       "0      0  0.079365\n",
       "1      1  0.138728\n",
       "2      2  0.090909\n",
       "3      3  0.130252\n",
       "4      4  0.086957\n",
       "5      5  0.109661\n",
       "6      6  0.115468\n",
       "7      7  0.083333\n",
       "8      8  0.107926\n",
       "9      9  0.114074\n",
       "10    10  0.111276\n",
       "11    11  0.094708\n",
       "12    12  0.410405\n",
       "13    13  0.459581\n",
       "14    14  0.408346\n",
       "15    15  0.475610\n",
       "16    16  0.380789\n",
       "17    17  0.406926\n",
       "18    18  0.401985\n",
       "19    19  0.424837\n",
       "20    20  0.450413\n",
       "21    21  0.384956\n",
       "22    22  0.464516"
      ]
     },
     "execution_count": 48,
     "metadata": {},
     "output_type": "execute_result"
    }
   ],
   "source": [
    "#Check acceptance rate by hour of post\n",
    "\n",
    "\n",
    "jobs.groupby('hour')['accepted'].mean().reset_index()"
   ]
  },
  {
   "cell_type": "code",
   "execution_count": null,
   "id": "8324fb0f",
   "metadata": {},
   "outputs": [],
   "source": []
  }
 ],
 "metadata": {
  "kernelspec": {
   "display_name": "Python 3",
   "language": "python",
   "name": "python3"
  },
  "language_info": {
   "codemirror_mode": {
    "name": "ipython",
    "version": 3
   },
   "file_extension": ".py",
   "mimetype": "text/x-python",
   "name": "python",
   "nbconvert_exporter": "python",
   "pygments_lexer": "ipython3",
   "version": "3.8.8"
  }
 },
 "nbformat": 4,
 "nbformat_minor": 5
}
