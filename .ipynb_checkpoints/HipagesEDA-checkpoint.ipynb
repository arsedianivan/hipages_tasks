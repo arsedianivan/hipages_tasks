{
 "cells": [
  {
   "cell_type": "markdown",
   "id": "0819e46f",
   "metadata": {},
   "source": [
    "# INFO\n",
    "- **● time_of_posts** = The time the job was posted on Hipages.\n",
    "- **● latitudes** = The latitude of the job location,\n",
    "- **● longitudes** = The longitude of the job location\n",
    "- **● categorys** = An integer which represents the category for which the job is assigned. A\n",
    "- **● categorys** (for example, painting, plumbing or air conditioning) allows us to assign the job to tradies who will be interested in the job.\n",
    "- **● number_of_tradies** = The number of tradies who we can send this job out to.\n",
    "- **● estimated_size** = The estimated size of the job, this is proportional to the amount\n",
    "of revenue the tradie might get from the job.\n",
    "- **● number_of_impressions** = The number of impressions the job gets from the trades.\n",
    "- **● accepted** = A Boolean which represents if a tradie accepts a job invitation\n",
    "(meaning that they have indicated to Hipages that they would like us to provide\n",
    "them with the contact details of the consumer). 1 means at least one tradie was\n",
    "interested while 0 means no tradie was interested. This is the target variable you\n",
    "should focus to uncover its causal relationships with the other data."
   ]
  },
  {
   "cell_type": "markdown",
   "id": "c2d2988b",
   "metadata": {},
   "source": [
    "# Questions\n",
    "\n",
    "- Does the time-of-day influence if a job would be accepted?\n",
    "- Can we predict using the data we have if a job would be accepted?\n",
    "- How effective is estimated size to uncover differences in jobs, tradies, or behaviours?"
   ]
  },
  {
   "cell_type": "code",
   "execution_count": 2,
   "id": "cb42c09e",
   "metadata": {},
   "outputs": [
    {
     "data": {
      "text/html": [
       "<div>\n",
       "<style scoped>\n",
       "    .dataframe tbody tr th:only-of-type {\n",
       "        vertical-align: middle;\n",
       "    }\n",
       "\n",
       "    .dataframe tbody tr th {\n",
       "        vertical-align: top;\n",
       "    }\n",
       "\n",
       "    .dataframe thead th {\n",
       "        text-align: right;\n",
       "    }\n",
       "</style>\n",
       "<table border=\"1\" class=\"dataframe\">\n",
       "  <thead>\n",
       "    <tr style=\"text-align: right;\">\n",
       "      <th></th>\n",
       "      <th>time_of_post</th>\n",
       "      <th>latitude</th>\n",
       "      <th>longitude</th>\n",
       "      <th>category</th>\n",
       "      <th>number_of_tradies</th>\n",
       "      <th>estimated_size</th>\n",
       "      <th>number_of_impressions</th>\n",
       "      <th>accepted</th>\n",
       "    </tr>\n",
       "  </thead>\n",
       "  <tbody>\n",
       "    <tr>\n",
       "      <th>0</th>\n",
       "      <td>2019-09-15 11:40:06</td>\n",
       "      <td>-37.8994</td>\n",
       "      <td>144.9799</td>\n",
       "      <td>8</td>\n",
       "      <td>8376</td>\n",
       "      <td>medium</td>\n",
       "      <td>1004.0</td>\n",
       "      <td>0</td>\n",
       "    </tr>\n",
       "    <tr>\n",
       "      <th>1</th>\n",
       "      <td>2019-09-11 15:12:06</td>\n",
       "      <td>-37.8063</td>\n",
       "      <td>144.9964</td>\n",
       "      <td>3</td>\n",
       "      <td>5089</td>\n",
       "      <td>medium</td>\n",
       "      <td>772.0</td>\n",
       "      <td>0</td>\n",
       "    </tr>\n",
       "    <tr>\n",
       "      <th>2</th>\n",
       "      <td>2019-09-10 15:53:06</td>\n",
       "      <td>-37.8901</td>\n",
       "      <td>144.8885</td>\n",
       "      <td>7</td>\n",
       "      <td>3677</td>\n",
       "      <td>small</td>\n",
       "      <td>1103.0</td>\n",
       "      <td>0</td>\n",
       "    </tr>\n",
       "    <tr>\n",
       "      <th>3</th>\n",
       "      <td>2019-09-10 11:38:06</td>\n",
       "      <td>-33.7674</td>\n",
       "      <td>151.1690</td>\n",
       "      <td>3</td>\n",
       "      <td>9732</td>\n",
       "      <td>medium</td>\n",
       "      <td>1111.0</td>\n",
       "      <td>1</td>\n",
       "    </tr>\n",
       "    <tr>\n",
       "      <th>4</th>\n",
       "      <td>2019-09-10 17:38:06</td>\n",
       "      <td>-33.9091</td>\n",
       "      <td>151.2039</td>\n",
       "      <td>6</td>\n",
       "      <td>2476</td>\n",
       "      <td>small</td>\n",
       "      <td>360.0</td>\n",
       "      <td>0</td>\n",
       "    </tr>\n",
       "  </tbody>\n",
       "</table>\n",
       "</div>"
      ],
      "text/plain": [
       "          time_of_post  latitude   longitude  category  number_of_tradies  \\\n",
       "0  2019-09-15 11:40:06  -37.8994    144.9799         8               8376   \n",
       "1  2019-09-11 15:12:06  -37.8063    144.9964         3               5089   \n",
       "2  2019-09-10 15:53:06  -37.8901    144.8885         7               3677   \n",
       "3  2019-09-10 11:38:06  -33.7674    151.1690         3               9732   \n",
       "4  2019-09-10 17:38:06  -33.9091    151.2039         6               2476   \n",
       "\n",
       "  estimated_size  number_of_impressions  accepted  \n",
       "0         medium                 1004.0         0  \n",
       "1         medium                  772.0         0  \n",
       "2          small                 1103.0         0  \n",
       "3         medium                 1111.0         1  \n",
       "4          small                  360.0         0  "
      ]
     },
     "execution_count": 2,
     "metadata": {},
     "output_type": "execute_result"
    }
   ],
   "source": [
    "import pandas as pd\n",
    "import seaborn as sns\n",
    "import matplotlib.pyplot as plt\n",
    "\n",
    "\n",
    "jobs = pd.read_csv('Data Analytics Case Study - jobs.csv')\n",
    "\n",
    "jobs.head(5)"
   ]
  },
  {
   "cell_type": "code",
   "execution_count": 3,
   "id": "a86de858",
   "metadata": {},
   "outputs": [
    {
     "name": "stdout",
     "output_type": "stream",
     "text": [
      "<class 'pandas.core.frame.DataFrame'>\n",
      "RangeIndex: 9999 entries, 0 to 9998\n",
      "Data columns (total 8 columns):\n",
      " #   Column                 Non-Null Count  Dtype  \n",
      "---  ------                 --------------  -----  \n",
      " 0   time_of_post           9999 non-null   object \n",
      " 1   latitude               9999 non-null   float64\n",
      " 2    longitude             9999 non-null   float64\n",
      " 3   category               9999 non-null   int64  \n",
      " 4   number_of_tradies      9999 non-null   int64  \n",
      " 5   estimated_size         9999 non-null   object \n",
      " 6   number_of_impressions  9889 non-null   float64\n",
      " 7   accepted               9999 non-null   int64  \n",
      "dtypes: float64(3), int64(3), object(2)\n",
      "memory usage: 625.1+ KB\n"
     ]
    }
   ],
   "source": [
    "jobs.info()"
   ]
  },
  {
   "cell_type": "code",
   "execution_count": 4,
   "id": "46c3dba9",
   "metadata": {},
   "outputs": [
    {
     "data": {
      "text/html": [
       "<div>\n",
       "<style scoped>\n",
       "    .dataframe tbody tr th:only-of-type {\n",
       "        vertical-align: middle;\n",
       "    }\n",
       "\n",
       "    .dataframe tbody tr th {\n",
       "        vertical-align: top;\n",
       "    }\n",
       "\n",
       "    .dataframe thead th {\n",
       "        text-align: right;\n",
       "    }\n",
       "</style>\n",
       "<table border=\"1\" class=\"dataframe\">\n",
       "  <thead>\n",
       "    <tr style=\"text-align: right;\">\n",
       "      <th></th>\n",
       "      <th>latitude</th>\n",
       "      <th>longitude</th>\n",
       "      <th>category</th>\n",
       "      <th>number_of_tradies</th>\n",
       "      <th>number_of_impressions</th>\n",
       "      <th>accepted</th>\n",
       "    </tr>\n",
       "  </thead>\n",
       "  <tbody>\n",
       "    <tr>\n",
       "      <th>count</th>\n",
       "      <td>9999.000000</td>\n",
       "      <td>9999.000000</td>\n",
       "      <td>9999.000000</td>\n",
       "      <td>9999.000000</td>\n",
       "      <td>9889.000000</td>\n",
       "      <td>9999.000000</td>\n",
       "    </tr>\n",
       "    <tr>\n",
       "      <th>mean</th>\n",
       "      <td>-34.613654</td>\n",
       "      <td>146.508822</td>\n",
       "      <td>4.819982</td>\n",
       "      <td>4225.784678</td>\n",
       "      <td>1015.828901</td>\n",
       "      <td>0.263626</td>\n",
       "    </tr>\n",
       "    <tr>\n",
       "      <th>std</th>\n",
       "      <td>4.786739</td>\n",
       "      <td>7.078573</td>\n",
       "      <td>1.857602</td>\n",
       "      <td>3020.932017</td>\n",
       "      <td>481.730727</td>\n",
       "      <td>0.440621</td>\n",
       "    </tr>\n",
       "    <tr>\n",
       "      <th>min</th>\n",
       "      <td>-38.221600</td>\n",
       "      <td>121.939400</td>\n",
       "      <td>1.000000</td>\n",
       "      <td>355.000000</td>\n",
       "      <td>-745.000000</td>\n",
       "      <td>0.000000</td>\n",
       "    </tr>\n",
       "    <tr>\n",
       "      <th>25%</th>\n",
       "      <td>-37.799350</td>\n",
       "      <td>144.937650</td>\n",
       "      <td>3.000000</td>\n",
       "      <td>1627.000000</td>\n",
       "      <td>689.000000</td>\n",
       "      <td>0.000000</td>\n",
       "    </tr>\n",
       "    <tr>\n",
       "      <th>50%</th>\n",
       "      <td>-34.000800</td>\n",
       "      <td>145.138800</td>\n",
       "      <td>5.000000</td>\n",
       "      <td>3677.000000</td>\n",
       "      <td>1007.000000</td>\n",
       "      <td>0.000000</td>\n",
       "    </tr>\n",
       "    <tr>\n",
       "      <th>75%</th>\n",
       "      <td>-33.841800</td>\n",
       "      <td>151.206350</td>\n",
       "      <td>6.000000</td>\n",
       "      <td>7267.000000</td>\n",
       "      <td>1339.000000</td>\n",
       "      <td>1.000000</td>\n",
       "    </tr>\n",
       "    <tr>\n",
       "      <th>max</th>\n",
       "      <td>-17.548400</td>\n",
       "      <td>151.542900</td>\n",
       "      <td>9.000000</td>\n",
       "      <td>10000.000000</td>\n",
       "      <td>3245.000000</td>\n",
       "      <td>1.000000</td>\n",
       "    </tr>\n",
       "  </tbody>\n",
       "</table>\n",
       "</div>"
      ],
      "text/plain": [
       "          latitude    longitude     category  number_of_tradies  \\\n",
       "count  9999.000000  9999.000000  9999.000000        9999.000000   \n",
       "mean    -34.613654   146.508822     4.819982        4225.784678   \n",
       "std       4.786739     7.078573     1.857602        3020.932017   \n",
       "min     -38.221600   121.939400     1.000000         355.000000   \n",
       "25%     -37.799350   144.937650     3.000000        1627.000000   \n",
       "50%     -34.000800   145.138800     5.000000        3677.000000   \n",
       "75%     -33.841800   151.206350     6.000000        7267.000000   \n",
       "max     -17.548400   151.542900     9.000000       10000.000000   \n",
       "\n",
       "       number_of_impressions     accepted  \n",
       "count            9889.000000  9999.000000  \n",
       "mean             1015.828901     0.263626  \n",
       "std               481.730727     0.440621  \n",
       "min              -745.000000     0.000000  \n",
       "25%               689.000000     0.000000  \n",
       "50%              1007.000000     0.000000  \n",
       "75%              1339.000000     1.000000  \n",
       "max              3245.000000     1.000000  "
      ]
     },
     "execution_count": 4,
     "metadata": {},
     "output_type": "execute_result"
    }
   ],
   "source": [
    "jobs.describe()"
   ]
  },
  {
   "cell_type": "code",
   "execution_count": 5,
   "id": "34db4efd",
   "metadata": {},
   "outputs": [
    {
     "data": {
      "text/plain": [
       "5    1966\n",
       "4    1952\n",
       "6    1602\n",
       "3    1378\n",
       "7    1133\n",
       "2     845\n",
       "8     621\n",
       "1     287\n",
       "9     215\n",
       "Name: category, dtype: int64"
      ]
     },
     "execution_count": 5,
     "metadata": {},
     "output_type": "execute_result"
    }
   ],
   "source": [
    "jobs['category'].value_counts()"
   ]
  },
  {
   "cell_type": "code",
   "execution_count": 6,
   "id": "e41ba388",
   "metadata": {},
   "outputs": [
    {
     "data": {
      "text/plain": [
       "0    7363\n",
       "1    2636\n",
       "Name: accepted, dtype: int64"
      ]
     },
     "execution_count": 6,
     "metadata": {},
     "output_type": "execute_result"
    }
   ],
   "source": [
    "jobs['accepted'].value_counts()"
   ]
  },
  {
   "cell_type": "code",
   "execution_count": 7,
   "id": "09756081",
   "metadata": {},
   "outputs": [
    {
     "data": {
      "text/plain": [
       "category  accepted\n",
       "1         0            210\n",
       "          1             77\n",
       "2         0            646\n",
       "          1            199\n",
       "3         0            834\n",
       "          1            544\n",
       "4         0           1441\n",
       "          1            511\n",
       "5         0           1657\n",
       "          1            309\n",
       "6         0           1122\n",
       "          1            480\n",
       "7         0            837\n",
       "          1            296\n",
       "8         0            464\n",
       "          1            157\n",
       "9         0            152\n",
       "          1             63\n",
       "Name: accepted, dtype: int64"
      ]
     },
     "execution_count": 7,
     "metadata": {},
     "output_type": "execute_result"
    }
   ],
   "source": [
    "jobs['accepted'].groupby(jobs['category']).value_counts()"
   ]
  },
  {
   "cell_type": "code",
   "execution_count": 8,
   "id": "27581619",
   "metadata": {},
   "outputs": [],
   "source": [
    "jobs['time_of_post'] = pd.to_datetime(jobs['time_of_post'])"
   ]
  },
  {
   "cell_type": "code",
   "execution_count": 9,
   "id": "b2db9cd8",
   "metadata": {},
   "outputs": [],
   "source": [
    "jobs['date'] = jobs['time_of_post'].dt.date\n",
    "jobs['time'] = jobs['time_of_post'].dt.time"
   ]
  },
  {
   "cell_type": "code",
   "execution_count": 10,
   "id": "13e04283",
   "metadata": {},
   "outputs": [
    {
     "data": {
      "text/plain": [
       "12:25:06    22\n",
       "12:01:06    19\n",
       "10:03:06    19\n",
       "11:32:06    18\n",
       "13:43:06    18\n",
       "            ..\n",
       "20:20:07     1\n",
       "05:26:07     1\n",
       "09:16:07     1\n",
       "05:57:07     1\n",
       "19:50:07     1\n",
       "Name: time, Length: 1969, dtype: int64"
      ]
     },
     "execution_count": 10,
     "metadata": {},
     "output_type": "execute_result"
    }
   ],
   "source": [
    "jobs['time'].value_counts()"
   ]
  },
  {
   "cell_type": "code",
   "execution_count": 11,
   "id": "a11a5819",
   "metadata": {},
   "outputs": [
    {
     "name": "stdout",
     "output_type": "stream",
     "text": [
      "<class 'pandas.core.frame.DataFrame'>\n",
      "RangeIndex: 9999 entries, 0 to 9998\n",
      "Data columns (total 10 columns):\n",
      " #   Column                 Non-Null Count  Dtype         \n",
      "---  ------                 --------------  -----         \n",
      " 0   time_of_post           9999 non-null   datetime64[ns]\n",
      " 1   latitude               9999 non-null   float64       \n",
      " 2    longitude             9999 non-null   float64       \n",
      " 3   category               9999 non-null   int64         \n",
      " 4   number_of_tradies      9999 non-null   int64         \n",
      " 5   estimated_size         9999 non-null   object        \n",
      " 6   number_of_impressions  9889 non-null   float64       \n",
      " 7   accepted               9999 non-null   int64         \n",
      " 8   date                   9999 non-null   object        \n",
      " 9   time                   9999 non-null   object        \n",
      "dtypes: datetime64[ns](1), float64(3), int64(3), object(3)\n",
      "memory usage: 781.3+ KB\n"
     ]
    }
   ],
   "source": [
    "jobs.info()"
   ]
  },
  {
   "cell_type": "code",
   "execution_count": 12,
   "id": "20fea2d6",
   "metadata": {},
   "outputs": [
    {
     "data": {
      "text/html": [
       "<div>\n",
       "<style scoped>\n",
       "    .dataframe tbody tr th:only-of-type {\n",
       "        vertical-align: middle;\n",
       "    }\n",
       "\n",
       "    .dataframe tbody tr th {\n",
       "        vertical-align: top;\n",
       "    }\n",
       "\n",
       "    .dataframe thead th {\n",
       "        text-align: right;\n",
       "    }\n",
       "</style>\n",
       "<table border=\"1\" class=\"dataframe\">\n",
       "  <thead>\n",
       "    <tr style=\"text-align: right;\">\n",
       "      <th></th>\n",
       "      <th>latitude</th>\n",
       "      <th>longitude</th>\n",
       "      <th>category</th>\n",
       "      <th>number_of_tradies</th>\n",
       "      <th>number_of_impressions</th>\n",
       "      <th>accepted</th>\n",
       "    </tr>\n",
       "  </thead>\n",
       "  <tbody>\n",
       "    <tr>\n",
       "      <th>count</th>\n",
       "      <td>9999.000000</td>\n",
       "      <td>9999.000000</td>\n",
       "      <td>9999.000000</td>\n",
       "      <td>9999.000000</td>\n",
       "      <td>9889.000000</td>\n",
       "      <td>9999.000000</td>\n",
       "    </tr>\n",
       "    <tr>\n",
       "      <th>mean</th>\n",
       "      <td>-34.613654</td>\n",
       "      <td>146.508822</td>\n",
       "      <td>4.819982</td>\n",
       "      <td>4225.784678</td>\n",
       "      <td>1015.828901</td>\n",
       "      <td>0.263626</td>\n",
       "    </tr>\n",
       "    <tr>\n",
       "      <th>std</th>\n",
       "      <td>4.786739</td>\n",
       "      <td>7.078573</td>\n",
       "      <td>1.857602</td>\n",
       "      <td>3020.932017</td>\n",
       "      <td>481.730727</td>\n",
       "      <td>0.440621</td>\n",
       "    </tr>\n",
       "    <tr>\n",
       "      <th>min</th>\n",
       "      <td>-38.221600</td>\n",
       "      <td>121.939400</td>\n",
       "      <td>1.000000</td>\n",
       "      <td>355.000000</td>\n",
       "      <td>-745.000000</td>\n",
       "      <td>0.000000</td>\n",
       "    </tr>\n",
       "    <tr>\n",
       "      <th>25%</th>\n",
       "      <td>-37.799350</td>\n",
       "      <td>144.937650</td>\n",
       "      <td>3.000000</td>\n",
       "      <td>1627.000000</td>\n",
       "      <td>689.000000</td>\n",
       "      <td>0.000000</td>\n",
       "    </tr>\n",
       "    <tr>\n",
       "      <th>50%</th>\n",
       "      <td>-34.000800</td>\n",
       "      <td>145.138800</td>\n",
       "      <td>5.000000</td>\n",
       "      <td>3677.000000</td>\n",
       "      <td>1007.000000</td>\n",
       "      <td>0.000000</td>\n",
       "    </tr>\n",
       "    <tr>\n",
       "      <th>75%</th>\n",
       "      <td>-33.841800</td>\n",
       "      <td>151.206350</td>\n",
       "      <td>6.000000</td>\n",
       "      <td>7267.000000</td>\n",
       "      <td>1339.000000</td>\n",
       "      <td>1.000000</td>\n",
       "    </tr>\n",
       "    <tr>\n",
       "      <th>max</th>\n",
       "      <td>-17.548400</td>\n",
       "      <td>151.542900</td>\n",
       "      <td>9.000000</td>\n",
       "      <td>10000.000000</td>\n",
       "      <td>3245.000000</td>\n",
       "      <td>1.000000</td>\n",
       "    </tr>\n",
       "  </tbody>\n",
       "</table>\n",
       "</div>"
      ],
      "text/plain": [
       "          latitude    longitude     category  number_of_tradies  \\\n",
       "count  9999.000000  9999.000000  9999.000000        9999.000000   \n",
       "mean    -34.613654   146.508822     4.819982        4225.784678   \n",
       "std       4.786739     7.078573     1.857602        3020.932017   \n",
       "min     -38.221600   121.939400     1.000000         355.000000   \n",
       "25%     -37.799350   144.937650     3.000000        1627.000000   \n",
       "50%     -34.000800   145.138800     5.000000        3677.000000   \n",
       "75%     -33.841800   151.206350     6.000000        7267.000000   \n",
       "max     -17.548400   151.542900     9.000000       10000.000000   \n",
       "\n",
       "       number_of_impressions     accepted  \n",
       "count            9889.000000  9999.000000  \n",
       "mean             1015.828901     0.263626  \n",
       "std               481.730727     0.440621  \n",
       "min              -745.000000     0.000000  \n",
       "25%               689.000000     0.000000  \n",
       "50%              1007.000000     0.000000  \n",
       "75%              1339.000000     1.000000  \n",
       "max              3245.000000     1.000000  "
      ]
     },
     "execution_count": 12,
     "metadata": {},
     "output_type": "execute_result"
    }
   ],
   "source": [
    "jobs.describe()"
   ]
  },
  {
   "cell_type": "code",
   "execution_count": 13,
   "id": "28aeb0fd",
   "metadata": {},
   "outputs": [
    {
     "data": {
      "text/plain": [
       "time      accepted\n",
       "00:00:06  0           1\n",
       "00:01:06  0           2\n",
       "00:03:06  0           2\n",
       "          1           1\n",
       "00:04:06  0           3\n",
       "                     ..\n",
       "22:56:06  0           4\n",
       "          1           2\n",
       "22:57:06  0           1\n",
       "22:58:07  0           1\n",
       "22:59:06  1           1\n",
       "Name: accepted, Length: 2918, dtype: int64"
      ]
     },
     "execution_count": 13,
     "metadata": {},
     "output_type": "execute_result"
    }
   ],
   "source": [
    "jobs['accepted'].groupby(jobs['time']).value_counts()"
   ]
  },
  {
   "cell_type": "code",
   "execution_count": 14,
   "id": "8761986a",
   "metadata": {},
   "outputs": [],
   "source": [
    "# Define a function to categorize time into parts of the day\n",
    "def categorise_time(time):\n",
    "    if time.hour < 12:\n",
    "        return 'Morning'\n",
    "    elif 12 <= time.hour < 17:\n",
    "        return 'Afternoon'\n",
    "    elif 17 <= time.hour < 21:\n",
    "        return 'Evening'\n",
    "    else:\n",
    "        return 'Night'"
   ]
  },
  {
   "cell_type": "code",
   "execution_count": 15,
   "id": "5bd08d36",
   "metadata": {},
   "outputs": [],
   "source": [
    "jobs['time_category'] = jobs['time_of_post'].dt.time.apply(categorise_time)"
   ]
  },
  {
   "cell_type": "code",
   "execution_count": 16,
   "id": "42856c2d",
   "metadata": {},
   "outputs": [
    {
     "data": {
      "text/plain": [
       "time_category  accepted\n",
       "Morning        0           4489\n",
       "Afternoon      0           1828\n",
       "               1           1360\n",
       "Evening        0            824\n",
       "               1            589\n",
       "Morning        1            528\n",
       "Night          0            222\n",
       "               1            159\n",
       "Name: accepted, dtype: int64"
      ]
     },
     "execution_count": 16,
     "metadata": {},
     "output_type": "execute_result"
    }
   ],
   "source": [
    "jobs['accepted'].groupby(jobs['time_category']).value_counts().sort_values(ascending=False)"
   ]
  },
  {
   "cell_type": "code",
   "execution_count": 17,
   "id": "df8d04e2",
   "metadata": {},
   "outputs": [],
   "source": [
    "acceptedjobs = jobs[jobs['accepted'] == 1]"
   ]
  },
  {
   "cell_type": "code",
   "execution_count": 20,
   "id": "996535fd",
   "metadata": {},
   "outputs": [
    {
     "ename": "NameError",
     "evalue": "name 'plt' is not defined",
     "output_type": "error",
     "traceback": [
      "\u001b[0;31m---------------------------------------------------------------------------\u001b[0m",
      "\u001b[0;31mNameError\u001b[0m                                 Traceback (most recent call last)",
      "\u001b[0;32m<ipython-input-20-deca421b381d>\u001b[0m in \u001b[0;36m<module>\u001b[0;34m\u001b[0m\n\u001b[1;32m      1\u001b[0m \u001b[0msns\u001b[0m\u001b[0;34m.\u001b[0m\u001b[0mboxplot\u001b[0m\u001b[0;34m(\u001b[0m\u001b[0mdata\u001b[0m\u001b[0;34m=\u001b[0m\u001b[0mjobs\u001b[0m\u001b[0;34m,\u001b[0m \u001b[0mx\u001b[0m\u001b[0;34m=\u001b[0m\u001b[0;34m'accepted'\u001b[0m\u001b[0;34m,\u001b[0m \u001b[0my\u001b[0m\u001b[0;34m=\u001b[0m\u001b[0;34m'time_category'\u001b[0m\u001b[0;34m)\u001b[0m\u001b[0;34m\u001b[0m\u001b[0;34m\u001b[0m\u001b[0m\n\u001b[0;32m----> 2\u001b[0;31m \u001b[0mplt\u001b[0m\u001b[0;34m.\u001b[0m\u001b[0mshow\u001b[0m\u001b[0;34m(\u001b[0m\u001b[0;34m)\u001b[0m\u001b[0;34m\u001b[0m\u001b[0;34m\u001b[0m\u001b[0m\n\u001b[0m",
      "\u001b[0;31mNameError\u001b[0m: name 'plt' is not defined"
     ]
    },
    {
     "data": {
      "image/png": "[encoded data removed]",
      "text/plain": [
       "<Figure size 432x288 with 1 Axes>"
      ]
     },
     "metadata": {
      "needs_background": "light"
     },
     "output_type": "display_data"
    }
   ],
   "source": [
    "sns.boxplot(data=jobs, x='accepted', y='time_category')\n",
    "plt.show()"
   ]
  },
  {
   "cell_type": "code",
   "execution_count": null,
   "id": "49368c37",
   "metadata": {},
   "outputs": [],
   "source": []
  },
  {
   "cell_type": "code",
   "execution_count": null,
   "id": "fa57870f",
   "metadata": {},
   "outputs": [],
   "source": []
  }
 ],
 "metadata": {
  "kernelspec": {
   "display_name": "Python 3",
   "language": "python",
   "name": "python3"
  },
  "language_info": {
   "codemirror_mode": {
    "name": "ipython",
    "version": 3
   },
   "file_extension": ".py",
   "mimetype": "text/x-python",
   "name": "python",
   "nbconvert_exporter": "python",
   "pygments_lexer": "ipython3",
   "version": "3.8.8"
  }
 },
 "nbformat": 4,
 "nbformat_minor": 5
}
